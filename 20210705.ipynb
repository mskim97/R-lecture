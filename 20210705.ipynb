{
  "nbformat": 4,
  "nbformat_minor": 0,
  "metadata": {
    "colab": {
      "name": "20210705.ipynb",
      "provenance": [],
      "collapsed_sections": [],
      "authorship_tag": "ABX9TyOT3qI96aTOYCtC+QLhiynk",
      "include_colab_link": true
    },
    "kernelspec": {
      "name": "python3",
      "display_name": "Python 3"
    },
    "language_info": {
      "name": "python"
    }
  },
  "cells": [
    {
      "cell_type": "markdown",
      "metadata": {
        "id": "view-in-github",
        "colab_type": "text"
      },
      "source": [
        "<a href=\"https://colab.research.google.com/github/mskim97/R-lecture/blob/main/20210705.ipynb\" target=\"_parent\"><img src=\"https://colab.research.google.com/assets/colab-badge.svg\" alt=\"Open In Colab\"/></a>"
      ]
    },
    {
      "cell_type": "code",
      "metadata": {
        "id": "AgmGc_okBv7m"
      },
      "source": [
        "from google.colab import drive\n",
        "drive.mount('/content/gdrive')"
      ],
      "execution_count": null,
      "outputs": []
    },
    {
      "cell_type": "code",
      "metadata": {
        "id": "4C5h7bQUFY3x"
      },
      "source": [
        "import numpy as np\n",
        "xy = np.loadtxt('/content/gdrive/My Drive/Colab Notebooks/\n",
        "data-02-stock_daily.csv', delimiter=\",\")"
      ],
      "execution_count": null,
      "outputs": []
    },
    {
      "cell_type": "code",
      "metadata": {
        "id": "pYlpusDNFY8y"
      },
      "source": [
        "xy[:2]"
      ],
      "execution_count": null,
      "outputs": []
    },
    {
      "cell_type": "code",
      "metadata": {
        "id": "VgGGmUO3FY_0"
      },
      "source": [
        "#train, test split\n",
        "seq_length = 7\n",
        "train_size = int(len(xy)*0.7)\n",
        "train_set = xy[:train_size]\n",
        "test_set = xy[train_size - seq_length:]\n",
        "print(train_set.shape, test_set.shape)"
      ],
      "execution_count": null,
      "outputs": []
    },
    {
      "cell_type": "code",
      "metadata": {
        "id": "kmxPqUM_FZDp"
      },
      "source": [
        "def minmax_scaler(data):\n",
        "  numerator = data - np.min(data, 0)\n",
        "  denominator = np.max(data, 0)-np.min(data,0)\n",
        "  return numerator / (denominator + 1e-7)"
      ],
      "execution_count": null,
      "outputs": []
    },
    {
      "cell_type": "code",
      "metadata": {
        "id": "16gv_jYMFZF1"
      },
      "source": [
        "#scaling data\n",
        "train_set = minmax_scaler(train_set)\n",
        "test_set = minmax_scaler(test_set)"
      ],
      "execution_count": null,
      "outputs": []
    },
    {
      "cell_type": "code",
      "metadata": {
        "id": "t30tGe60FZIt"
      },
      "source": [
        "train_set[:3]"
      ],
      "execution_count": null,
      "outputs": []
    },
    {
      "cell_type": "code",
      "metadata": {
        "id": "dU2GZAI5FZL-"
      },
      "source": [
        "def build_dataset(time_series_data, seq_length):\n",
        "  data_X = []; data_y = []\n",
        "  for i in range(0, len(time_series_data)-seq_length):\n",
        "    x_ = time_series_data[i: i + seq_length, :]\n",
        "    y_ = time_series_data[i+seq_length, [-1]]\n",
        "    data_X.append(x_); data_y.append(y_)\n",
        "  return np.array(data_X), np.array(data_y)"
      ],
      "execution_count": null,
      "outputs": []
    },
    {
      "cell_type": "code",
      "metadata": {
        "id": "cSCRBPukFZO6"
      },
      "source": [
        "train_X, train_y = build_dataset(train_set, seq_length)\n",
        "test_X, test_y = build_dataset(test_set, seq_length)"
      ],
      "execution_count": null,
      "outputs": []
    },
    {
      "cell_type": "code",
      "metadata": {
        "id": "BG1DfTFLFZpw"
      },
      "source": [
        "import torch\n",
        "import torch.optim as optim\n",
        "import matplotlib.pyplot as plt"
      ],
      "execution_count": null,
      "outputs": []
    },
    {
      "cell_type": "code",
      "metadata": {
        "id": "dSeMrzTPFolD"
      },
      "source": [
        "data_dim = 5\n",
        "hidden_dim = 10\n",
        "output_dim = 1\n",
        "learning_rate = 0.01\n",
        "iterations = 500"
      ],
      "execution_count": null,
      "outputs": []
    },
    {
      "cell_type": "code",
      "metadata": {
        "id": "-r7hpt1IFrHg"
      },
      "source": [
        "train_X_tensor = torch.FloatTensor(train_X)\n",
        "train_y_tensor = torch.FloatTensor(train_y)\n",
        "test_X_tensor = torch.FloatTensor(test_X)\n",
        "test_y_tensor = torch.FloatTensor(test_y)"
      ],
      "execution_count": null,
      "outputs": []
    },
    {
      "cell_type": "code",
      "metadata": {
        "id": "_qlnJ1MxFrFv"
      },
      "source": [
        "class Net(torch.nn.Module):\n",
        "  def __init__(self, input_dim, hidden_dim, output_dim, layers):\n",
        "    super(Net, self).__init__()\n",
        "    self.rnn = torch.nn.LSTM(input_dim, hidden_dim, num_layers=layers, \n",
        "                             batch_first=True)\n",
        "    self.fc = torch.nn.Linear(hidden_dim, output_dim, bias=True)\n",
        "\n",
        "  def forward(self, x):\n",
        "    x, _status = self.rnn(x)\n",
        "    x = self.fc(x[:,-1])\n",
        "    return x\n",
        "\n",
        "net = Net(data_dim, hidden_dim, output_dim, 1)"
      ],
      "execution_count": null,
      "outputs": []
    },
    {
      "cell_type": "code",
      "metadata": {
        "id": "qexg0-bBFrAq"
      },
      "source": [
        "criterion = torch.nn.MSELoss()\n",
        "optimizer = optim.Adam(net.parameters(), lr = learning_rate)"
      ],
      "execution_count": null,
      "outputs": []
    },
    {
      "cell_type": "code",
      "metadata": {
        "id": "0jhH12uoFojB"
      },
      "source": [
        "# training!\n",
        "for i in range(iterations):\n",
        "  optimizer.zero_grad()\n",
        "  outputs = net(train_X_tensor)\n",
        "  loss = criterion(outputs, train_y_tensor)\n",
        "  loss.backward()\n",
        "  optimizer.step()\n",
        "  print(i, loss.item())"
      ],
      "execution_count": null,
      "outputs": []
    },
    {
      "cell_type": "code",
      "metadata": {
        "id": "FfFqzxAQFofj"
      },
      "source": [
        "plt.plot(test_y)\n",
        "plt.plot(net(test_X_tensor).data.numpy())\n",
        "plt.legend(['org', 'pred'])\n",
        "plt.show()"
      ],
      "execution_count": null,
      "outputs": []
    }
  ]
}